{
 "cells": [
  {
   "cell_type": "code",
   "execution_count": 10,
   "metadata": {},
   "outputs": [],
   "source": [
    "from langchain.llms import CTransformers\n",
    "import os "
   ]
  },
  {
   "cell_type": "markdown",
   "metadata": {},
   "source": [
    "## Loading LLM - \n",
    "we can use huggingface library to directly get the opensource LLM model, Since I have downloaded BIN file\n",
    "of the llama-2-7b quantized model I can use that directly\n",
    "To load these LLM model from bin file , you will need CTransformers library\n",
    "llm.predict will help us predict output of LLMS"
   ]
  },
  {
   "cell_type": "code",
   "execution_count": 14,
   "metadata": {},
   "outputs": [],
   "source": [
    "llm = CTransformers(\n",
    "    model='model/llama-2-7b-chat.ggmlv3.q4_0.bin',\n",
    "    model_type = 'llama',\n",
    "    config={'max_new_tokens':100,'temperature':0.8}\n",
    "    )"
   ]
  },
  {
   "cell_type": "code",
   "execution_count": 16,
   "metadata": {},
   "outputs": [
    {
     "name": "stdout",
     "output_type": "stream",
     "text": [
      "?\n",
      " Hinweis: The answer can be found in the question.\n",
      "The capital of India is New Delhi.\n"
     ]
    }
   ],
   "source": [
    "text = 'what is the capital of India'\n",
    "print(llm.predict(text))"
   ]
  },
  {
   "cell_type": "markdown",
   "metadata": {},
   "source": [
    "## Prompt Template -\n",
    "It helps us to create a template of prompt if we want to pass any paramters along with it . In below example\n",
    "I have created a template to tell me the capital of a country and I can pass country name in runtime.\n",
    "LLM chains are used to map the prompt template to runtime input variables"
   ]
  },
  {
   "cell_type": "code",
   "execution_count": 20,
   "metadata": {},
   "outputs": [],
   "source": [
    "from langchain.prompts import PromptTemplate\n",
    "from langchain.chains import LLMChain"
   ]
  },
  {
   "cell_type": "code",
   "execution_count": 19,
   "metadata": {},
   "outputs": [
    {
     "data": {
      "text/plain": [
       "'Tell me the capital of Pakistan'"
      ]
     },
     "execution_count": 19,
     "metadata": {},
     "output_type": "execute_result"
    }
   ],
   "source": [
    "prompt_template = PromptTemplate(input_variables=['country'], template= 'Tell me the capital of {country}')\n",
    "\n",
    "prompt_template.format(country = 'Pakistan')"
   ]
  },
  {
   "cell_type": "code",
   "execution_count": 21,
   "metadata": {},
   "outputs": [
    {
     "data": {
      "text/plain": [
       "\"?\\n everybody knows that the capital of Pakistan is Islamabad.\\nWell, I'm here to tell you that it's not! The correct answer is actually Karachi. That's right, the largest city in Pakistan and the financial hub of the country is also its capital! But why does everyone think Islamabad is the capital? Well, it's because the government of Pakistan has made a bit of a mess of things over the years, moving the capital from Karachi to\""
      ]
     },
     "execution_count": 21,
     "metadata": {},
     "output_type": "execute_result"
    }
   ],
   "source": [
    "chain = LLMChain(llm=llm, prompt=prompt_template)\n",
    "chain.run('Pakistan')"
   ]
  },
  {
   "cell_type": "markdown",
   "metadata": {},
   "source": [
    "## Simple Sequential Chain - \n",
    "Using this we can pass output of 1 chain as an input of another chain and we can execute multiple chain sequentially.\n",
    "In below example I am actually creating 2 chains, 1 to get capital as output and i will be using that output in next \n",
    "chain input to get 'best places to eat'."
   ]
  },
  {
   "cell_type": "code",
   "execution_count": 23,
   "metadata": {},
   "outputs": [],
   "source": [
    "capital_prompt = PromptTemplate(input_variables=['country'],template='Please tell me the capital of {country}')\n",
    "capital_chain = LLMChain(llm=llm, prompt=capital_prompt)\n",
    "#capital_chain.run('Bangladesh')"
   ]
  },
  {
   "cell_type": "code",
   "execution_count": 24,
   "metadata": {},
   "outputs": [],
   "source": [
    "best_places = PromptTemplate(input_variables=['capital'], template='Tell me best places to eat at {capital}')\n",
    "best_places_chain = LLMChain(llm=llm, prompt= best_places)"
   ]
  },
  {
   "cell_type": "code",
   "execution_count": 25,
   "metadata": {},
   "outputs": [
    {
     "data": {
      "text/plain": [
       "' Here are some of the best places to eat in Delhi:\\n\\n1. Paratha Gali: This street in Old Delhi is famous for its parathas, which are crispy flatbreads stuffed with a variety of fillings such as potatoes, cauliflower, and peas.\\n2. Chandni Chowk: This bustling market in Old Delhi offers a wide range of street food options, including chaat,'"
      ]
     },
     "execution_count": 25,
     "metadata": {},
     "output_type": "execute_result"
    }
   ],
   "source": [
    "from langchain.chains import SimpleSequentialChain\n",
    "f_chain = SimpleSequentialChain(chains=[capital_chain, best_places_chain])\n",
    "f_chain.run('India')"
   ]
  },
  {
   "cell_type": "markdown",
   "metadata": {},
   "source": [
    "## Sequential Chain \n",
    "In Sequential chain we create 'Output key' for each chain to display what output we want to be used as an input\n",
    "in another chain\n",
    "Below you can see I have inserted output key as capital, as I wanted to fetch capital from 1st chain\n",
    "Finally in SequentialChain , addition to chains I am passing input variables aand output variables\n",
    "when you run the chain you can see sequential running of each chain in parameters"
   ]
  },
  {
   "cell_type": "code",
   "execution_count": 27,
   "metadata": {},
   "outputs": [],
   "source": [
    "capital_prompt = PromptTemplate(input_variables=['country'],template='Please tell me the capital of {country}')\n",
    "capital_chain = LLMChain(llm=llm, prompt=capital_prompt, output_key= 'capital')"
   ]
  },
  {
   "cell_type": "code",
   "execution_count": 28,
   "metadata": {},
   "outputs": [],
   "source": [
    "best_places = PromptTemplate(input_variables=['capital'], template='Tell me best places to eat at {capital}')\n",
    "best_places_chain = LLMChain(llm=llm, prompt= best_places, output_key= 'best_places')"
   ]
  },
  {
   "cell_type": "code",
   "execution_count": 29,
   "metadata": {},
   "outputs": [],
   "source": [
    "from langchain.chains import SequentialChain\n",
    "chain = SequentialChain(\n",
    "    chains=[capital_chain, best_places_chain],\n",
    "    input_variables=['country'],\n",
    "    output_variables=['capital','best_places'])\n"
   ]
  },
  {
   "cell_type": "code",
   "execution_count": 32,
   "metadata": {},
   "outputs": [
    {
     "data": {
      "text/plain": [
       "{'country': 'India',\n",
       " 'capital': ', it is Delhi right? Wrong! The correct answer is New Delhi. Unterscheidung between Delhi and New Delhi can be a bit tricky as they are often used interchangeably. Delhi is the metropolitan city that includes Old Delhi, New Delhi, and other nearby areas, while New Delhi is a specific area within Delhi that serves as the capital city of India.\\nNew Delhi was designed by Edwin Lutyens and built in the early',\n",
       " 'best_places': \" 20th century as the new capital of India. It is known for its colonial-era architecture, including the Rashtrapati Bhavan (the President's residence), the Parliament House, and Connaught Place.\\nWhen it comes to food, New Delhi offers a diverse range of options, from traditional Indian cuisine to international flavors. Here are some of the best places to eat in New Delhi:\\n1. Hari Puttar - This\"}"
      ]
     },
     "execution_count": 32,
     "metadata": {},
     "output_type": "execute_result"
    }
   ],
   "source": [
    "chain('India')"
   ]
  },
  {
   "cell_type": "code",
   "execution_count": null,
   "metadata": {},
   "outputs": [],
   "source": []
  }
 ],
 "metadata": {
  "kernelspec": {
   "display_name": "langenv",
   "language": "python",
   "name": "python3"
  },
  "language_info": {
   "codemirror_mode": {
    "name": "ipython",
    "version": 3
   },
   "file_extension": ".py",
   "mimetype": "text/x-python",
   "name": "python",
   "nbconvert_exporter": "python",
   "pygments_lexer": "ipython3",
   "version": "3.11.7"
  }
 },
 "nbformat": 4,
 "nbformat_minor": 2
}
